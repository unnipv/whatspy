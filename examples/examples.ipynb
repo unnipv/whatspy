{
 "cells": [
  {
   "cell_type": "code",
   "execution_count": 21,
   "metadata": {},
   "outputs": [],
   "source": [
    "from selenium import webdriver\n",
    "from selenium.webdriver.common.by import By\n"
   ]
  },
  {
   "cell_type": "code",
   "execution_count": 25,
   "metadata": {},
   "outputs": [],
   "source": [
    "driver = webdriver.Chrome()\n",
    "driver.get(\"https://web.whatsapp.com/\")"
   ]
  },
  {
   "cell_type": "code",
   "execution_count": 30,
   "metadata": {},
   "outputs": [
    {
     "name": "stdout",
     "output_type": "stream",
     "text": [
      "19\n",
      "33\n"
     ]
    }
   ],
   "source": [
    "chat_list_div = driver.find_element(By.CSS_SELECTOR, '[aria-label=\"Chat list\"]')\n",
    "chat_count = chat_list_div.get_attribute('aria-rowcount')\n",
    "child_divs = chat_list_div.find_elements(By.CSS_SELECTOR,'[role=\"listitem\"]')\n",
    "chat_name_divs = []\n",
    "for div in range(int(chat_count)):\n",
    "    \n",
    "    chat_name_divs.append(div.find_element(By.CSS_SELECTOR,'[data-testid=\"list-item-\"]'))\n",
    "\n",
    "# child_classes = [div.get_attribute('class') for div in child_divs]\n",
    "\n",
    "# for classes in child_classes:\n",
    "#     print(classes)\n",
    "\n",
    "print(len(chat_name_divs))\n",
    "print(chat_count)"
   ]
  },
  {
   "cell_type": "code",
   "execution_count": null,
   "metadata": {},
   "outputs": [],
   "source": [
    "message_elements = driver.find_elements(By.CSS_SELECTOR, \"div.message-in div.selectable-text\")\n",
    "messages = [message.text for message in message_elements]\n",
    "print(messages)"
   ]
  }
 ],
 "metadata": {
  "kernelspec": {
   "display_name": "web-auto",
   "language": "python",
   "name": "python3"
  },
  "language_info": {
   "codemirror_mode": {
    "name": "ipython",
    "version": 3
   },
   "file_extension": ".py",
   "mimetype": "text/x-python",
   "name": "python",
   "nbconvert_exporter": "python",
   "pygments_lexer": "ipython3",
   "version": "3.11.4"
  },
  "orig_nbformat": 4
 },
 "nbformat": 4,
 "nbformat_minor": 2
}
